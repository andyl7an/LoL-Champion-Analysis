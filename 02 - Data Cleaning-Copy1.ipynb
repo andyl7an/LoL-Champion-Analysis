{
 "cells": [
  {
   "cell_type": "markdown",
   "metadata": {},
   "source": [
    "# 02 - Data Cleaning"
   ]
  },
  {
   "cell_type": "code",
   "execution_count": 21,
   "metadata": {
    "collapsed": false
   },
   "outputs": [],
   "source": [
    "import json\n",
    "import glob\n",
    "import requests\n",
    "import time\n",
    "import seaborn as sns\n",
    "%matplotlib inline\n",
    "from matplotlib import pyplot as plt\n",
    "import os"
   ]
  },
  {
   "cell_type": "markdown",
   "metadata": {},
   "source": [
    "This is my API key that I will be using to make requests from Riot's API"
   ]
  },
  {
   "cell_type": "code",
   "execution_count": 22,
   "metadata": {
    "collapsed": true
   },
   "outputs": [],
   "source": [
    "#constants\n",
    "myKey = \"6aacc2fb-5fb7-4b4e-8250-e5005b85e22b\""
   ]
  },
  {
   "cell_type": "markdown",
   "metadata": {},
   "source": [
    "I downloaded a given random sample of a thousand matches provided in the form of JSON files. However, this isn't the information I'm looking for, I want the actual player information from the API. The API request requires a player's ID to acquire the information, so what I'll do is extract every summoner Id from these 1,000 matches."
   ]
  },
  {
   "cell_type": "code",
   "execution_count": 23,
   "metadata": {
    "collapsed": false
   },
   "outputs": [
    {
     "data": {
      "text/plain": [
       "['/data/andyl7an/matches10.json',\n",
       " '/data/andyl7an/matches9.json',\n",
       " '/data/andyl7an/matches8.json',\n",
       " '/data/andyl7an/matches6.json',\n",
       " '/data/andyl7an/matches4.json',\n",
       " '/data/andyl7an/champData',\n",
       " '/data/andyl7an/matches2.json',\n",
       " '/data/andyl7an/matches1.json',\n",
       " '/data/andyl7an/champData27',\n",
       " '/data/andyl7an/matches3.json',\n",
       " '/data/andyl7an/matches5.json',\n",
       " '/data/andyl7an/matches7.json']"
      ]
     },
     "execution_count": 23,
     "metadata": {},
     "output_type": "execute_result"
    }
   ],
   "source": [
    "matchFiles = glob.glob(\"/data/andyl7an/*\")\n",
    "summonerIDs = []\n",
    "platformIDs = []\n",
    "matchFiles"
   ]
  },
  {
   "cell_type": "code",
   "execution_count": 24,
   "metadata": {
    "collapsed": false
   },
   "outputs": [],
   "source": [
    "for file in matchFiles:\n",
    "    if (file == '/data/andyl7an/champData' or file == '/data/andyl7an/champData27'):\n",
    "        continue\n",
    "    with open(file, encoding = \"ISO-8859-1\") as data_file:    \n",
    "        data = json.load(data_file)\n",
    "        for i in range(len(data['matches'])):\n",
    "            for j in range(len(data['matches'][0]['participantIdentities'])):\n",
    "                summonerIDs.append(data['matches'][i]['participantIdentities'][j]['player']['summonerId'])\n",
    "                platformIDs.append(data['matches'][i]['platformId'])\n",
    "\n"
   ]
  },
  {
   "cell_type": "code",
   "execution_count": 25,
   "metadata": {
    "collapsed": false
   },
   "outputs": [],
   "source": [
    "assert(len(summonerIDs) == 10000)"
   ]
  },
  {
   "cell_type": "markdown",
   "metadata": {},
   "source": [
    "## API Request Functions"
   ]
  },
  {
   "cell_type": "markdown",
   "metadata": {},
   "source": [
    "This method will help me get the tier of each player, ranging from Bronze to Challenger."
   ]
  },
  {
   "cell_type": "code",
   "execution_count": 26,
   "metadata": {
    "collapsed": false
   },
   "outputs": [],
   "source": [
    "def getRank(id):\n",
    "    \n",
    "    url = \"https://na.api.pvp.net/api/lol/na/v2.5/league/by-summoner/\"\n",
    "    url = url + str(id) \n",
    "    url = url + \"?api_key=\" + myKey\n",
    "    output = requests.get(url)\n",
    "    \n",
    "    output = output.json()\n",
    "    tempList = output[str(id)]\n",
    "    length = len(tempList) - 1\n",
    "    x = tempList[length]['tier']\n",
    "    return x\n",
    "\n"
   ]
  },
  {
   "cell_type": "markdown",
   "metadata": {},
   "source": [
    "This method will help me determine if a player is specialized on a champion. I've defined a specialized player as someone who plays more of their most played champion than their second and third combined."
   ]
  },
  {
   "cell_type": "code",
   "execution_count": 27,
   "metadata": {
    "collapsed": false
   },
   "outputs": [],
   "source": [
    "def isOTP(id):\n",
    "    url = \"https://na.api.pvp.net/championmastery/location/NA1/player/\"\n",
    "    url = url + str(id)\n",
    "    url = url + \"/topchampions?api_key=\" + myKey\n",
    "    output = requests.get(url)\n",
    "    output = output.json()\n",
    "    points1 = output[0]['championPoints']\n",
    "    points2 = output[1]['championPoints']\n",
    "    points3 = output[2]['championPoints']\n",
    "    if (points1 > (points2 + points3)):\n",
    "        return True\n",
    "    else:\n",
    "        return False\n",
    "\n",
    "    "
   ]
  },
  {
   "cell_type": "markdown",
   "metadata": {},
   "source": [
    "This will get the division information to accompany the rank, the divisions range from 5 to 1. So if a player is Bronze, the player could be anywhere between Bronze5 to Bronze1, this will specify that."
   ]
  },
  {
   "cell_type": "code",
   "execution_count": 28,
   "metadata": {
    "collapsed": true
   },
   "outputs": [],
   "source": [
    "def getDiv(id):\n",
    "    url = \"https://na.api.pvp.net/api/lol/na/v2.5/league/by-summoner/\"\n",
    "    url = url + str(id)\n",
    "    url = url + \"/entry?api_key=\" + myKey\n",
    "    output = requests.get(url).json()\n",
    "    return output[str(id)][0]['entries'][0]['division']\n",
    "    \n",
    "    "
   ]
  },
  {
   "cell_type": "code",
   "execution_count": 29,
   "metadata": {
    "collapsed": false
   },
   "outputs": [],
   "source": [
    "div = getDiv(28520860)\n",
    "tier = getRank(28520860)\n",
    "otp = isOTP(28520860)\n",
    "assert(\"PLATINUM\" == tier)\n",
    "assert(\"II\" == div)\n",
    "assert(otp)\n",
    "assert(\"PLATINUMII\" == tier + div)"
   ]
  },
  {
   "cell_type": "code",
   "execution_count": 30,
   "metadata": {
    "collapsed": false
   },
   "outputs": [],
   "source": [
    "rankList = []\n",
    "OTPList = []"
   ]
  },
  {
   "cell_type": "markdown",
   "metadata": {},
   "source": [
    "This method will return information on every champion the player has played recently, in the form of \"Champion Points\""
   ]
  },
  {
   "cell_type": "code",
   "execution_count": null,
   "metadata": {
    "collapsed": false
   },
   "outputs": [],
   "source": [
    "\n",
    "def champUsage(id):\n",
    "    url = \"https://na.api.pvp.net/championmastery/location/NA1/player/\"\n",
    "    url = url + str(id)\n",
    "    url = url + \"/champions?api_key=\" + myKey\n",
    "    output = requests.get(url)\n",
    "    output = output.json()\n",
    "    return output"
   ]
  },
  {
   "cell_type": "markdown",
   "metadata": {
    "collapsed": false
   },
   "source": [
    "Since the champion information returns a Champion id, I need a method to make the conversion to champion name to know which champion I'm looking at\n",
    "    "
   ]
  },
  {
   "cell_type": "code",
   "execution_count": 32,
   "metadata": {
    "collapsed": true
   },
   "outputs": [],
   "source": [
    "def getChampName(id):\n",
    "    url = 'https://global.api.pvp.net/api/lol/static-data/na/v1.2/champion/'\n",
    "    url = url + str(id)\n",
    "    url = url + '?api_key=' + myKey\n",
    "    output = requests.get(url).json()\n",
    "    return output['name']"
   ]
  },
  {
   "cell_type": "markdown",
   "metadata": {},
   "source": [
    "## Data Acquisition"
   ]
  },
  {
   "cell_type": "markdown",
   "metadata": {},
   "source": [
    "This will create a file where I will append the rank of the player and whether the player is specialized in pairs."
   ]
  },
  {
   "cell_type": "code",
   "execution_count": null,
   "metadata": {
    "collapsed": true
   },
   "outputs": [],
   "source": [
    "with open('otpRankData.txt', 'w') as f:\n",
    "    for id in summonerIDs:\n",
    "        try:\n",
    "            rank = getRank(id)\n",
    "            time.sleep(1.5)\n",
    "            div = getDiv(id)\n",
    "            time.sleep(1.5)\n",
    "            otp = isOTP(id)\n",
    "            time.sleep(1.5)\n",
    "            \n",
    "            f.write(rank + div)\n",
    "            f.write(',')\n",
    "            f.write(str(otp))\n",
    "            f.write('\\n')\n",
    "\n",
    "        except (KeyError, ValueError):\n",
    "            pass\n",
    "        "
   ]
  },
  {
   "cell_type": "markdown",
   "metadata": {},
   "source": [
    "I will then take each player's three most played champions, and create a data set for each champion that shows how often other champions are played by the same player. I will repeat this for every player I have in my sample."
   ]
  },
  {
   "cell_type": "code",
   "execution_count": null,
   "metadata": {
    "collapsed": false
   },
   "outputs": [
    {
     "name": "stdout",
     "output_type": "stream",
     "text": [
      "Running: 50352314\n",
      "Running: 51723537"
     ]
    }
   ],
   "source": [
    "\n",
    "for id in summonerIDs:\n",
    "    try:\n",
    "        allChamps = champUsage(id)\n",
    "        time.sleep(1)\n",
    "        path = os.getcwd() + '/champData/'\n",
    "        name = getChampName(allChamps[0]['championId'])\n",
    "        name = os.path.join(path,name)\n",
    "\n",
    "        for i in range(1,len(allChamps)):\n",
    "            champ = allChamps[i]\n",
    "            with open(name, 'a') as f:\n",
    "                f.write(getChampName(champ['championId']))\n",
    "\n",
    "                f.write(':')\n",
    "                f.write(str(champ['championPoints']))\n",
    "\n",
    "                f.write('\\n')\n",
    "    except (KeyError, ValueError):\n",
    "            pass\n",
    "            \n",
    "for id in summonerIDs:\n",
    "    try:\n",
    "        print('Running: ' + str(id))\n",
    "        allChamps = champUsage(id)\n",
    "        time.sleep(1)\n",
    "        path = os.getcwd() + '/champData/'\n",
    "        name = getChampName(allChamps[1]['championId'])\n",
    "        name = os.path.join(path,name)\n",
    "\n",
    "        for i in range(0,len(allChamps)):\n",
    "            if (i == 1):\n",
    "                continue\n",
    "            champ = allChamps[i]\n",
    "            with open(name, 'a') as f:\n",
    "                f.write(getChampName(champ['championId']))\n",
    "\n",
    "                f.write(':')\n",
    "                f.write(str(champ['championPoints']))\n",
    "\n",
    "                f.write('\\n')\n",
    "    except (KeyError, ValueError):\n",
    "            pass\n",
    "            \n",
    "for id in summonerIDs:\n",
    "    try:\n",
    "        print('Running: ' + str(id))\n",
    "        allChamps = champUsage(id)\n",
    "        time.sleep(1)\n",
    "        path = os.getcwd() + '/champData/'\n",
    "        name = getChampName(allChamps[2]['championId'])\n",
    "        name = os.path.join(path,name)\n",
    "\n",
    "        for i in range(0,len(allChamps)):\n",
    "            if (i == 2):\n",
    "                continue\n",
    "            champ = allChamps[i]\n",
    "            with open(name, 'a') as f:\n",
    "                f.write(getChampName(champ['championId']))\n",
    "\n",
    "                f.write(':')\n",
    "                f.write(str(champ['championPoints']))\n",
    "\n",
    "                f.write('\\n')\n",
    "    except (KeyError, ValueError):\n",
    "            pass"
   ]
  }
 ],
 "metadata": {
  "kernelspec": {
   "display_name": "Python 3",
   "language": "python",
   "name": "python3"
  },
  "language_info": {
   "codemirror_mode": {
    "name": "ipython",
    "version": 3
   },
   "file_extension": ".py",
   "mimetype": "text/x-python",
   "name": "python",
   "nbconvert_exporter": "python",
   "pygments_lexer": "ipython3",
   "version": "3.4.3"
  }
 },
 "nbformat": 4,
 "nbformat_minor": 0
}
